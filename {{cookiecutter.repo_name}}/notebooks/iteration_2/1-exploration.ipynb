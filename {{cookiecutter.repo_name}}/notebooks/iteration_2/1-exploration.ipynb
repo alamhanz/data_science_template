{
 "cells": [
  {
   "cell_type": "markdown",
   "metadata": {},
   "source": [
    "[YYYYMMDD]\n",
    "\n",
    "# 1. Exploration\n",
    "\n",
    "EDA of the features and target"
   ]
  },
  {
   "cell_type": "markdown",
   "metadata": {},
   "source": [
    "## Goal\n",
    "Find patterns on the features for target\n",
    "\n",
    "## Plan\n",
    "Checklist what will be done on the notebook :\n",
    "\n",
    "        [ ] Get Data\n",
    "        [ ] Basic Summary\n",
    "        [ ] Data Preparations / Feature Engineering\n",
    "            [ ] Missing Value\n",
    "            [ ] Outliers Handling\n",
    "            [ ] Categorical Handling \n",
    "        [ ] Features Summary\n",
    "        [ ] Features Connection to Target"
   ]
  },
  {
   "cell_type": "code",
   "execution_count": 3,
   "metadata": {},
   "outputs": [],
   "source": [
    "import yaml\n",
    "import pandas as pd\n",
    "import matplotlib.pyplot as plt\n",
    "import os\n",
    "import numpy as np\n",
    "import sys"
   ]
  },
  {
   "cell_type": "code",
   "execution_count": null,
   "metadata": {},
   "outputs": [],
   "source": [
    "CURR_FOLDER_PATH = os.getcwd()\n",
    "BASE_PATH = os.path.dirname(os.path.dirname(CURR_FOLDER_PATH))\n",
    "sys.path.insert(1,os.path.join(BASE_PATH,'src'))\n",
    "\n",
    "## import myfunc inside src folder\n",
    "from utils import get_folder_name"
   ]
  },
  {
   "cell_type": "code",
   "execution_count": null,
   "metadata": {},
   "outputs": [],
   "source": [
    "with open(os.path.join(BASE_PATH,\"config.yaml\"), \"r\") as f:\n",
    "    config = yaml.load(f, Loader=yaml.FullLoader)\n",
    "\n",
    "if os.name == 'posix' :\n",
    "    rep = '/'\n",
    "else:\n",
    "    rep = '\\\\'\n",
    "\n",
    "PATH_RAW = os.path.join(BASE_PATH,config['raw']).replace('/',rep)\n",
    "PATH_INTERIM = os.path.join(BASE_PATH,config['interim']).replace('/',rep)\n",
    "PATH_PROCESSED = os.path.join(BASE_PATH,config['processed']).replace('/',rep)\n",
    "PATH_MODEL = os.path.join(BASE_PATH,config['artifact'],get_folder_name()).replace('/',rep)\n",
    "PATH_UDF = os.path.join(BASE_PATH,config['udf']).replace('/',rep)"
   ]
  },
  {
   "cell_type": "markdown",
   "metadata": {},
   "source": [
    "## Get Data"
   ]
  },
  {
   "cell_type": "code",
   "execution_count": null,
   "metadata": {},
   "outputs": [],
   "source": [
    "df = pd.read_csv(PATH_RAW+'test-cookie.csv')"
   ]
  },
  {
   "cell_type": "code",
   "execution_count": null,
   "metadata": {},
   "outputs": [],
   "source": []
  }
 ],
 "metadata": {
  "kernelspec": {
   "display_name": "Python 3.8.8 ('base')",
   "language": "python",
   "name": "python3"
  },
  "language_info": {
   "codemirror_mode": {
    "name": "ipython",
    "version": 3
   },
   "file_extension": ".py",
   "mimetype": "text/x-python",
   "name": "python",
   "nbconvert_exporter": "python",
   "pygments_lexer": "ipython3",
   "version": "3.8.8"
  },
  "orig_nbformat": 4,
  "vscode": {
   "interpreter": {
    "hash": "6fde994876131bc9f65527873aa4b87e75053d151a689996c7611049218b8dee"
   }
  }
 },
 "nbformat": 4,
 "nbformat_minor": 2
}
